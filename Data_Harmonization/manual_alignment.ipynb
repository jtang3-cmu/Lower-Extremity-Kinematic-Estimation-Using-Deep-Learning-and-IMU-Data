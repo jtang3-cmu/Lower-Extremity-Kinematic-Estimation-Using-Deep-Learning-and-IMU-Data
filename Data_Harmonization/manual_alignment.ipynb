{
 "cells": [
  {
   "cell_type": "markdown",
   "id": "de9fd757",
   "metadata": {},
   "source": [
    "## Read Acc and Gyro Data"
   ]
  },
  {
   "cell_type": "code",
   "execution_count": null,
   "id": "e401958e",
   "metadata": {
    "vscode": {
     "languageId": "plaintext"
    }
   },
   "outputs": [],
   "source": [
    "processed_acc_path = 'Processed_resampled/walking/Pelvis/acc.npy'\n",
    "processed_gyr_path = 'Processed_resampled/walking/Pelvis/gyr.npy'\n",
    "baseline_acc_path = 'baseline_walking/s894/pelvis/acc.npy'\n",
    "baseline_gyr_path = 'baseline_walking/s894/pelvis/gyr.npy'"
   ]
  },
  {
   "cell_type": "markdown",
   "id": "066bbb71",
   "metadata": {},
   "source": [
    "## Plot Acc and Gyro Signal"
   ]
  },
  {
   "cell_type": "code",
   "execution_count": null,
   "id": "68bb8dee",
   "metadata": {
    "vscode": {
     "languageId": "plaintext"
    }
   },
   "outputs": [],
   "source": [
    "import numpy as np\n",
    "import matplotlib.pyplot as plt\n",
    "\n",
    "# plot signal\n",
    "def plot_single_axis_comparison_with_time(p_data, s_data, axis_label, sensor_type, sampling_rate=200):\n",
    "    n_samples = min(len(p_data), len(s_data))\n",
    "    time = np.arange(n_samples) / sampling_rate  # unit: sec\n",
    "\n",
    "    plt.figure(figsize=(10, 4))\n",
    "    plt.plot(time, p_data[:n_samples], label='Processed')\n",
    "    plt.plot(time, s_data[:n_samples], label='Baseline', linestyle='--')\n",
    "    plt.title(f'{sensor_type.upper()} Comparison - {axis_label.upper()} Axis')\n",
    "    plt.xlabel('Time (s)')\n",
    "    plt.ylabel('Value')\n",
    "    plt.legend()\n",
    "    plt.grid(True)\n",
    "    plt.tight_layout()\n",
    "    plt.show()\n",
    "\n",
    "# load data\n",
    "def load_and_split_npy(path):\n",
    "    data = np.load(path)\n",
    "    x = data[:, 0]\n",
    "    y = data[:, 1]\n",
    "    z = data[:, 2]\n",
    "    return x, y, z\n",
    "\n",
    "# 讀取\n",
    "acc_p_x, acc_p_y, acc_p_z = load_and_split_npy(processed_acc_path)\n",
    "gyr_p_x, gyr_p_y, gyr_p_z = load_and_split_npy(processed_gyr_path)\n",
    "acc_s_x, acc_s_y, acc_s_z = load_and_split_npy(baseline_acc_path)\n",
    "gyr_s_x, gyr_s_y, gyr_s_z = load_and_split_npy(baseline_gyr_path)\n",
    "\n",
    "\n",
    "# 🎨 plot acc (X, Y, Z)\n",
    "plot_single_axis_comparison_with_time(-acc_p_z, acc_s_x, 'x', 'acc')\n",
    "plot_single_axis_comparison_with_time(-acc_p_x, acc_s_y, 'y', 'acc')\n",
    "plot_single_axis_comparison_with_time(acc_p_y, acc_s_z, 'z', 'acc')\n",
    "\n",
    "# 🎨 plot gyro（X, Y, Z）\n",
    "plot_single_axis_comparison_with_time(-gyr_p_z, gyr_s_x, 'x', 'gyr')\n",
    "plot_single_axis_comparison_with_time(-gyr_p_x, gyr_s_y, 'y', 'gyr')\n",
    "plot_single_axis_comparison_with_time(gyr_p_y, gyr_s_z, 'z', 'gyr')\n"
   ]
  }
 ],
 "metadata": {
  "language_info": {
   "name": "python"
  }
 },
 "nbformat": 4,
 "nbformat_minor": 5
}
